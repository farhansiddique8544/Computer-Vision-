{
 "cells": [
  {
   "cell_type": "markdown",
   "id": "b99df83e",
   "metadata": {},
   "source": [
    "TASK : Create 72 images agains each single image for each 5 degree i.e., for 1.jpeg there should be 1_5degree.jpeg, 1_10degree.jpeg, 1_15degree.jpeg, ..., 1_350degree.jpeg and 1_355degree.jpeg (total 72 images) and 72 images for all other images too. There are 7 images in cat_dog.zip so the resultant folder should contain total 504 images"
   ]
  },
  {
   "cell_type": "code",
   "execution_count": 2,
   "id": "3888614a",
   "metadata": {},
   "outputs": [],
   "source": [
    "import os\n",
    "from PIL import Image\n",
    "\n",
    "input_dir = 'C:/Users/Dell/Downloads/augmentation'\n",
    "output_dir = 'C:/Users/Dell/Downloads/cat_dog/rotated'\n",
    "\n",
    "# Loop through all the images in the input directory\n",
    "for filename in os.listdir(input_dir):\n",
    "    if filename.endswith('.jpeg'):\n",
    "        # Open the original image\n",
    "        img = Image.open(os.path.join(input_dir, filename))\n",
    "\n",
    "        # Create 72 new images by rotating the original image by every 5 degrees\n",
    "        for i in range(72):\n",
    "            angle = i * 5\n",
    "            new_filename = f'{os.path.splitext(filename)[0]}_{angle}degree.jpeg'\n",
    "            new_img = img.rotate(angle)\n",
    "            new_img.save(os.path.join(output_dir, new_filename))\n"
   ]
  },
  {
   "cell_type": "markdown",
   "id": "c0d9e240",
   "metadata": {},
   "source": [
    "TASK : Change brightness to random level and create 5 images for each single image. Resultant directory should contain 7*5=35 images"
   ]
  },
  {
   "cell_type": "code",
   "execution_count": null,
   "id": "929f6988",
   "metadata": {},
   "outputs": [],
   "source": [
    "import os\n",
    "import random\n",
    "from PIL import Image, ImageEnhance\n",
    "\n",
    "input_dir = 'C:/Users/Dell/Downloads/augmentation'\n",
    "output_dir = 'C:/Users/Dell/Downloads/cat_dog/brighted'\n",
    "\n",
    "num_levels = 5\n",
    "\n",
    "# loop through all files\n",
    "for filename in os.listdir(input_dir):\n",
    "    # load the image\n",
    "    img = Image.open(os.path.join(input_dir, filename))\n",
    "\n",
    "    # loop through the desired number of brightness levels\n",
    "    for i in range(num_levels):\n",
    "        # generate a random brightness value between 0.5 and 1.5\n",
    "        brightness = random.uniform(0.5, 1.5)\n",
    "\n",
    "# create a new image with the modified brightness\n",
    "        enhancer = ImageEnhance.Brightness(img)\n",
    "        img_mod = enhancer.enhance(brightness)\n",
    "\n",
    "        output_filename = f'{os.path.splitext(filename)[0]}_{i}.jpg'\n",
    "        img_mod.save(os.path.join(output_dir, output_filename))"
   ]
  },
  {
   "cell_type": "markdown",
   "id": "e10548d1",
   "metadata": {},
   "source": [
    " Add noise to create 5 images for each single image. Resultant directory should contain 7*5=35 images"
   ]
  },
  {
   "cell_type": "code",
   "execution_count": 3,
   "id": "0a174b9d",
   "metadata": {},
   "outputs": [],
   "source": [
    "from PIL import Image\n",
    "import numpy as np\n",
    "input_dir = \"C:/Users/Dell/Downloads/augmentation\"\n",
    "output_dir = \"C:/Users/Dell/Downloads/cat_dog/added_noise\"\n",
    "\n",
    "if not os.path.exists(output_dir):\n",
    "    os.makedirs(output_dir)\n",
    "\n",
    "noise_level = 0.1\n",
    "\n",
    "# Loop through each file in the input directory\n",
    "for filename in os.listdir(input_dir):\n",
    "    # Open the image using PIL\n",
    "    img = Image.open(os.path.join(input_dir, filename))\n",
    "\n",
    "    img_array = np.array(img)\n",
    "\n",
    "    # Adding noise\n",
    "    noisy_array = img_array + np.random.normal(scale=noise_level, size=img_array.shape)\n",
    "\n",
    "    # Clip the values of the noisy array to the valid range for image data (0 to 255)\n",
    "    noisy_array = np.clip(noisy_array, 0, 255).astype(np.uint8)\n",
    "\n",
    "    # Convert the noisy array back to a PIL Image object\n",
    "    noisy_img = Image.fromarray(noisy_array)\n",
    "    \n",
    "    for i in range(5):\n",
    "        noisy_img.save(os.path.join(output_dir, f\"{filename[:-4]}_noisy_{i}.jpg\"))"
   ]
  }
 ],
 "metadata": {
  "kernelspec": {
   "display_name": "Python 3 (ipykernel)",
   "language": "python",
   "name": "python3"
  },
  "language_info": {
   "codemirror_mode": {
    "name": "ipython",
    "version": 3
   },
   "file_extension": ".py",
   "mimetype": "text/x-python",
   "name": "python",
   "nbconvert_exporter": "python",
   "pygments_lexer": "ipython3",
   "version": "3.9.7"
  }
 },
 "nbformat": 4,
 "nbformat_minor": 5
}
