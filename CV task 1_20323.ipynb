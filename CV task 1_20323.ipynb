{
 "cells": [
  {
   "cell_type": "code",
   "execution_count": 1,
   "id": "d7a6512b",
   "metadata": {},
   "outputs": [
    {
     "name": "stdout",
     "output_type": "stream",
     "text": [
      "Requirement already satisfied: faker in c:\\users\\dell\\anaconda3\\lib\\site-packages (18.2.0)\n",
      "Requirement already satisfied: python-dateutil>=2.4 in c:\\users\\dell\\anaconda3\\lib\\site-packages (from faker) (2.8.2)\n",
      "Requirement already satisfied: six>=1.5 in c:\\users\\dell\\anaconda3\\lib\\site-packages (from python-dateutil>=2.4->faker) (1.16.0)\n",
      "Note: you may need to restart the kernel to use updated packages.\n"
     ]
    }
   ],
   "source": [
    "pip install faker"
   ]
  },
  {
   "cell_type": "code",
   "execution_count": 3,
   "id": "ace75290",
   "metadata": {},
   "outputs": [],
   "source": [
    "from IPython.display import display, HTML\n",
    "import matplotlib.pyplot as plt\n",
    "import matplotlib.patches as patches\n",
    "from PIL import Image\n",
    "import pandas as pd\n",
    "import numpy as np\n",
    "from faker import Faker\n",
    "import cv2\n",
    "import os"
   ]
  },
  {
   "cell_type": "code",
   "execution_count": null,
   "id": "b4edeaf8",
   "metadata": {},
   "outputs": [],
   "source": [
    "fake = Faker()\n",
    "\n",
    "# Load the background image\n",
    "img = cv2.imread('background.png')\n",
    "\n",
    "# Create an empty list to store the signature images\n",
    "signature_images = []\n",
    "\n",
    "# Loop through 100 signatures\n",
    "for i in range(100):\n",
    "    \n",
    "    signature_name = fake.name()\n",
    "    \n",
    "    signature_img = img.copy()\n",
    "    \n",
    "    # Generating random color\n",
    "    color = (np.random.randint(0, 256), np.random.randint(0, 256), np.random.randint(0, 256))\n",
    "    \n",
    "    # Adding the signature\n",
    "    cv2.putText(signature_img, signature_name, (80, 80), cv2.FONT_HERSHEY_SIMPLEX, 1, color, 2)\n",
    "    \n",
    "    # Add the signature image to the list\n",
    "    signature_images.append(signature_img)\n",
    "    \n",
    "# Displaying all the signature images\n",
    "for i, signature_img in enumerate(signature_images):\n",
    "    cv2.imshow(f\"Signature {i+1}\", signature_img)   \n",
    "    k=cv2.waitKey(0)\n",
    "    if k==ord('q'):\n",
    "        break\n",
    "plt.imshow(signature_img)\n",
    "\n",
    "cv2.destroyAllWindows()\n",
    "\n",
    "# Create an empty list to store the image paths\n",
    "image_paths = []\n",
    "\n",
    "# Loop through the signature images and save them\n",
    "for i, signature_img in enumerate(signature_images):\n",
    "    image_path = f\"signature_{i}.png\"\n",
    "    cv2.imwrite(image_path, signature_img)\n",
    "    image_paths.append(image_path)\n",
    "\n",
    "# Create a dataframe with the image paths\n",
    "df = pd.DataFrame({\"image_path\": image_paths})\n",
    "\n",
    "# Define a function to display the image in a cell of a dataframe\n",
    "def show_image(image_path):\n",
    "    img = Image.open(image_path)\n",
    "    img.thumbnail((100, 100))\n",
    "    display(img)\n",
    "\n",
    "# Display the dataframe with the images\n",
    "HTML(df.to_html(escape=False , formatters=dict(image_path=show_image)))\n"
   ]
  }
 ],
 "metadata": {
  "kernelspec": {
   "display_name": "Python 3 (ipykernel)",
   "language": "python",
   "name": "python3"
  },
  "language_info": {
   "codemirror_mode": {
    "name": "ipython",
    "version": 3
   },
   "file_extension": ".py",
   "mimetype": "text/x-python",
   "name": "python",
   "nbconvert_exporter": "python",
   "pygments_lexer": "ipython3",
   "version": "3.9.7"
  }
 },
 "nbformat": 4,
 "nbformat_minor": 5
}
